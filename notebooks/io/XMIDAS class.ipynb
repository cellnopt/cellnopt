{
 "metadata": {
  "name": "",
  "signature": "sha256:0cd97c7f782c83a297bc3093ddc88c3472fa2199ee2a01add820d837987b06d7"
 },
 "nbformat": 3,
 "nbformat_minor": 0,
 "worksheets": [
  {
   "cells": [
    {
     "cell_type": "heading",
     "level": 1,
     "metadata": {},
     "source": [
      "Reading a MIDAS file and manipulation with XMIDAS class"
     ]
    },
    {
     "cell_type": "markdown",
     "metadata": {},
     "source": [
      "**Note**: Detailed description of the MIDAS format can be found in the cellnopt documentation"
     ]
    },
    {
     "cell_type": "code",
     "collapsed": false,
     "input": [
      "#, first we need the XMIDAS class and cnodata function to play with some data samples.\n",
      "from cno.io import XMIDAS, midas\n",
      "from cno import cnodata\n",
      "reload(midas)"
     ],
     "language": "python",
     "metadata": {},
     "outputs": [
      {
       "metadata": {},
       "output_type": "pyout",
       "prompt_number": 79,
       "text": [
        "<module 'cno.io.midas' from '/home/cokelaer/Work/github/cellnopt/cno/io/midas.py'>"
       ]
      }
     ],
     "prompt_number": 79
    },
    {
     "cell_type": "code",
     "collapsed": false,
     "input": [
      "# then we read the file(cnodata returns the full path of a data file provided within cellnopt package)\n",
      "m = midas.XMIDAS(cnodata(\"MD-ToyMMB.csv\"))"
     ],
     "language": "python",
     "metadata": {},
     "outputs": [],
     "prompt_number": 80
    },
    {
     "cell_type": "heading",
     "level": 2,
     "metadata": {},
     "source": [
      "The data"
     ]
    },
    {
     "cell_type": "markdown",
     "metadata": {},
     "source": [
      "The data is contained within the Pandas dataframe called **df**, which is a multi-index data frame. Indices on rows have 3 levels:\n",
      "- cell\n",
      "- experiment\n",
      "- time\n",
      "\n",
      "and columns have only one level: the species measured."
     ]
    },
    {
     "cell_type": "code",
     "collapsed": false,
     "input": [
      "m.df"
     ],
     "language": "python",
     "metadata": {},
     "outputs": [
      {
       "html": [
        "<div style=\"max-height:1000px;max-width:1500px;overflow:auto;\">\n",
        "<table border=\"1\" class=\"dataframe\">\n",
        "  <thead>\n",
        "    <tr style=\"text-align: right;\">\n",
        "      <th></th>\n",
        "      <th></th>\n",
        "      <th></th>\n",
        "      <th>Akt</th>\n",
        "      <th>Erk</th>\n",
        "      <th>Hsp27</th>\n",
        "      <th>Jnk</th>\n",
        "      <th>NFkB</th>\n",
        "      <th>cJun</th>\n",
        "      <th>p90RSK</th>\n",
        "    </tr>\n",
        "    <tr>\n",
        "      <th>cell</th>\n",
        "      <th>experiment</th>\n",
        "      <th>time</th>\n",
        "      <th></th>\n",
        "      <th></th>\n",
        "      <th></th>\n",
        "      <th></th>\n",
        "      <th></th>\n",
        "      <th></th>\n",
        "      <th></th>\n",
        "    </tr>\n",
        "  </thead>\n",
        "  <tbody>\n",
        "    <tr>\n",
        "      <th rowspan=\"18\" valign=\"top\">mock</th>\n",
        "      <th rowspan=\"2\" valign=\"top\">experiment_0</th>\n",
        "      <th>0 </th>\n",
        "      <td> 0.00</td>\n",
        "      <td> 0.0</td>\n",
        "      <td> 0.0</td>\n",
        "      <td> 0.00</td>\n",
        "      <td> 0.00</td>\n",
        "      <td> 0.0</td>\n",
        "      <td> 0.00</td>\n",
        "    </tr>\n",
        "    <tr>\n",
        "      <th>10</th>\n",
        "      <td> 0.91</td>\n",
        "      <td> 0.8</td>\n",
        "      <td> 0.0</td>\n",
        "      <td> 0.00</td>\n",
        "      <td> 0.86</td>\n",
        "      <td> 0.0</td>\n",
        "      <td> 0.88</td>\n",
        "    </tr>\n",
        "    <tr>\n",
        "      <th rowspan=\"2\" valign=\"top\">experiment_1</th>\n",
        "      <th>0 </th>\n",
        "      <td> 0.00</td>\n",
        "      <td> 0.0</td>\n",
        "      <td> 0.0</td>\n",
        "      <td> 0.00</td>\n",
        "      <td> 0.00</td>\n",
        "      <td> 0.0</td>\n",
        "      <td> 0.00</td>\n",
        "    </tr>\n",
        "    <tr>\n",
        "      <th>10</th>\n",
        "      <td> 0.82</td>\n",
        "      <td> 0.0</td>\n",
        "      <td> 0.7</td>\n",
        "      <td> 0.25</td>\n",
        "      <td> 0.90</td>\n",
        "      <td> 0.4</td>\n",
        "      <td> 0.00</td>\n",
        "    </tr>\n",
        "    <tr>\n",
        "      <th rowspan=\"2\" valign=\"top\">experiment_2</th>\n",
        "      <th>0 </th>\n",
        "      <td> 0.00</td>\n",
        "      <td> 0.0</td>\n",
        "      <td> 0.0</td>\n",
        "      <td> 0.00</td>\n",
        "      <td> 0.00</td>\n",
        "      <td> 0.0</td>\n",
        "      <td> 0.00</td>\n",
        "    </tr>\n",
        "    <tr>\n",
        "      <th>10</th>\n",
        "      <td> 0.91</td>\n",
        "      <td> 0.8</td>\n",
        "      <td> 0.7</td>\n",
        "      <td> 0.25</td>\n",
        "      <td> 0.90</td>\n",
        "      <td> 0.4</td>\n",
        "      <td> 0.88</td>\n",
        "    </tr>\n",
        "    <tr>\n",
        "      <th rowspan=\"2\" valign=\"top\">experiment_3</th>\n",
        "      <th>0 </th>\n",
        "      <td> 0.00</td>\n",
        "      <td> 0.0</td>\n",
        "      <td> 0.0</td>\n",
        "      <td> 0.00</td>\n",
        "      <td> 0.00</td>\n",
        "      <td> 0.0</td>\n",
        "      <td> 0.00</td>\n",
        "    </tr>\n",
        "    <tr>\n",
        "      <th>10</th>\n",
        "      <td> 0.91</td>\n",
        "      <td> 0.0</td>\n",
        "      <td> 0.0</td>\n",
        "      <td> 0.00</td>\n",
        "      <td> 0.86</td>\n",
        "      <td> 0.0</td>\n",
        "      <td> 0.00</td>\n",
        "    </tr>\n",
        "    <tr>\n",
        "      <th rowspan=\"2\" valign=\"top\">experiment_4</th>\n",
        "      <th>0 </th>\n",
        "      <td> 0.00</td>\n",
        "      <td> 0.0</td>\n",
        "      <td> 0.0</td>\n",
        "      <td> 0.00</td>\n",
        "      <td> 0.00</td>\n",
        "      <td> 0.0</td>\n",
        "      <td> 0.00</td>\n",
        "    </tr>\n",
        "    <tr>\n",
        "      <th>10</th>\n",
        "      <td> 0.82</td>\n",
        "      <td> 0.0</td>\n",
        "      <td> 0.7</td>\n",
        "      <td> 0.25</td>\n",
        "      <td> 0.90</td>\n",
        "      <td> 0.4</td>\n",
        "      <td> 0.00</td>\n",
        "    </tr>\n",
        "    <tr>\n",
        "      <th rowspan=\"2\" valign=\"top\">experiment_5</th>\n",
        "      <th>0 </th>\n",
        "      <td> 0.00</td>\n",
        "      <td> 0.0</td>\n",
        "      <td> 0.0</td>\n",
        "      <td> 0.00</td>\n",
        "      <td> 0.00</td>\n",
        "      <td> 0.0</td>\n",
        "      <td> 0.00</td>\n",
        "    </tr>\n",
        "    <tr>\n",
        "      <th>10</th>\n",
        "      <td> 0.91</td>\n",
        "      <td> 0.0</td>\n",
        "      <td> 0.7</td>\n",
        "      <td> 0.25</td>\n",
        "      <td> 0.90</td>\n",
        "      <td> 0.4</td>\n",
        "      <td> 0.00</td>\n",
        "    </tr>\n",
        "    <tr>\n",
        "      <th rowspan=\"2\" valign=\"top\">experiment_6</th>\n",
        "      <th>0 </th>\n",
        "      <td> 0.00</td>\n",
        "      <td> 0.0</td>\n",
        "      <td> 0.0</td>\n",
        "      <td> 0.00</td>\n",
        "      <td> 0.00</td>\n",
        "      <td> 0.0</td>\n",
        "      <td> 0.00</td>\n",
        "    </tr>\n",
        "    <tr>\n",
        "      <th>10</th>\n",
        "      <td> 0.00</td>\n",
        "      <td> 0.8</td>\n",
        "      <td> 0.0</td>\n",
        "      <td> 0.00</td>\n",
        "      <td> 0.00</td>\n",
        "      <td> 0.0</td>\n",
        "      <td> 0.88</td>\n",
        "    </tr>\n",
        "    <tr>\n",
        "      <th rowspan=\"2\" valign=\"top\">experiment_7</th>\n",
        "      <th>0 </th>\n",
        "      <td> 0.00</td>\n",
        "      <td> 0.0</td>\n",
        "      <td> 0.0</td>\n",
        "      <td> 0.00</td>\n",
        "      <td> 0.00</td>\n",
        "      <td> 0.0</td>\n",
        "      <td> 0.00</td>\n",
        "    </tr>\n",
        "    <tr>\n",
        "      <th>10</th>\n",
        "      <td> 0.00</td>\n",
        "      <td> 0.0</td>\n",
        "      <td> 0.7</td>\n",
        "      <td> 0.25</td>\n",
        "      <td> 0.90</td>\n",
        "      <td> 0.4</td>\n",
        "      <td> 0.00</td>\n",
        "    </tr>\n",
        "    <tr>\n",
        "      <th rowspan=\"2\" valign=\"top\">experiment_8</th>\n",
        "      <th>0 </th>\n",
        "      <td> 0.00</td>\n",
        "      <td> 0.0</td>\n",
        "      <td> 0.0</td>\n",
        "      <td> 0.00</td>\n",
        "      <td> 0.00</td>\n",
        "      <td> 0.0</td>\n",
        "      <td> 0.00</td>\n",
        "    </tr>\n",
        "    <tr>\n",
        "      <th>10</th>\n",
        "      <td> 0.00</td>\n",
        "      <td> 0.8</td>\n",
        "      <td> 0.7</td>\n",
        "      <td> 0.25</td>\n",
        "      <td> 0.90</td>\n",
        "      <td> 0.4</td>\n",
        "      <td> 0.88</td>\n",
        "    </tr>\n",
        "  </tbody>\n",
        "</table>\n",
        "</div>"
       ],
       "metadata": {},
       "output_type": "pyout",
       "prompt_number": 3,
       "text": [
        "                         Akt  Erk  Hsp27   Jnk  NFkB  cJun  p90RSK\n",
        "cell experiment   time                                            \n",
        "mock experiment_0 0     0.00  0.0    0.0  0.00  0.00   0.0    0.00\n",
        "                  10    0.91  0.8    0.0  0.00  0.86   0.0    0.88\n",
        "     experiment_1 0     0.00  0.0    0.0  0.00  0.00   0.0    0.00\n",
        "                  10    0.82  0.0    0.7  0.25  0.90   0.4    0.00\n",
        "     experiment_2 0     0.00  0.0    0.0  0.00  0.00   0.0    0.00\n",
        "                  10    0.91  0.8    0.7  0.25  0.90   0.4    0.88\n",
        "     experiment_3 0     0.00  0.0    0.0  0.00  0.00   0.0    0.00\n",
        "                  10    0.91  0.0    0.0  0.00  0.86   0.0    0.00\n",
        "     experiment_4 0     0.00  0.0    0.0  0.00  0.00   0.0    0.00\n",
        "                  10    0.82  0.0    0.7  0.25  0.90   0.4    0.00\n",
        "     experiment_5 0     0.00  0.0    0.0  0.00  0.00   0.0    0.00\n",
        "                  10    0.91  0.0    0.7  0.25  0.90   0.4    0.00\n",
        "     experiment_6 0     0.00  0.0    0.0  0.00  0.00   0.0    0.00\n",
        "                  10    0.00  0.8    0.0  0.00  0.00   0.0    0.88\n",
        "     experiment_7 0     0.00  0.0    0.0  0.00  0.00   0.0    0.00\n",
        "                  10    0.00  0.0    0.7  0.25  0.90   0.4    0.00\n",
        "     experiment_8 0     0.00  0.0    0.0  0.00  0.00   0.0    0.00\n",
        "                  10    0.00  0.8    0.7  0.25  0.90   0.4    0.88"
       ]
      }
     ],
     "prompt_number": 3
    },
    {
     "cell_type": "code",
     "collapsed": false,
     "input": [
      "m.cellLines"
     ],
     "language": "python",
     "metadata": {},
     "outputs": [
      {
       "metadata": {},
       "output_type": "pyout",
       "prompt_number": 4,
       "text": [
        "[u'mock']"
       ]
      }
     ],
     "prompt_number": 4
    },
    {
     "cell_type": "code",
     "collapsed": false,
     "input": [
      "m.species"
     ],
     "language": "python",
     "metadata": {},
     "outputs": [
      {
       "metadata": {},
       "output_type": "pyout",
       "prompt_number": 5,
       "text": [
        "array(['Akt', 'Erk', 'Hsp27', 'Jnk', 'NFkB', 'cJun', 'p90RSK'], dtype=object)"
       ]
      }
     ],
     "prompt_number": 5
    },
    {
     "cell_type": "code",
     "collapsed": false,
     "input": [
      "# you can access to all data from a species as follows:\n",
      "m['Akt']"
     ],
     "language": "python",
     "metadata": {},
     "outputs": [
      {
       "metadata": {},
       "output_type": "pyout",
       "prompt_number": 6,
       "text": [
        "cell  experiment    time\n",
        "mock  experiment_0  0       0.00\n",
        "                    10      0.91\n",
        "      experiment_1  0       0.00\n",
        "                    10      0.82\n",
        "      experiment_2  0       0.00\n",
        "                    10      0.91\n",
        "      experiment_3  0       0.00\n",
        "                    10      0.91\n",
        "      experiment_4  0       0.00\n",
        "                    10      0.82\n",
        "      experiment_5  0       0.00\n",
        "                    10      0.91\n",
        "      experiment_6  0       0.00\n",
        "                    10      0.00\n",
        "      experiment_7  0       0.00\n",
        "                    10      0.00\n",
        "      experiment_8  0       0.00\n",
        "                    10      0.00\n",
        "Name: Akt, dtype: float64"
       ]
      }
     ],
     "prompt_number": 6
    },
    {
     "cell_type": "code",
     "collapsed": false,
     "input": [
      "# or to all species for a given experiment as follow:"
     ],
     "language": "python",
     "metadata": {},
     "outputs": [],
     "prompt_number": 7
    },
    {
     "cell_type": "code",
     "collapsed": false,
     "input": [
      "m.df.loc[('mock', 'experiment_1', 10)]"
     ],
     "language": "python",
     "metadata": {},
     "outputs": [
      {
       "metadata": {},
       "output_type": "pyout",
       "prompt_number": 8,
       "text": [
        "Akt       0.82\n",
        "Erk       0.00\n",
        "Hsp27     0.70\n",
        "Jnk       0.25\n",
        "NFkB      0.90\n",
        "cJun      0.40\n",
        "p90RSK    0.00\n",
        "Name: (mock, experiment_1, 10), dtype: float64"
       ]
      }
     ],
     "prompt_number": 8
    },
    {
     "cell_type": "markdown",
     "metadata": {},
     "source": [
      "There are many ways to access to the data in Pandas but we do not cover this aspect. Please refer to Pandas documentation. "
     ]
    },
    {
     "cell_type": "heading",
     "level": 2,
     "metadata": {},
     "source": [
      "experiments"
     ]
    },
    {
     "cell_type": "markdown",
     "metadata": {},
     "source": [
      "Experiments are named experiment_0, experiment_1 and so on. Details of each experiments in terms of stimuli and inhibitors can be obtaiened from the experiments dataframe"
     ]
    },
    {
     "cell_type": "code",
     "collapsed": false,
     "input": [
      "m.experiments"
     ],
     "language": "python",
     "metadata": {},
     "outputs": [
      {
       "html": [
        "<div style=\"max-height:1000px;max-width:1500px;overflow:auto;\">\n",
        "<table border=\"1\" class=\"dataframe\">\n",
        "  <thead>\n",
        "    <tr>\n",
        "      <th></th>\n",
        "      <th colspan=\"2\" halign=\"left\">Stimuli</th>\n",
        "      <th colspan=\"2\" halign=\"left\">Inhibitors</th>\n",
        "    </tr>\n",
        "    <tr>\n",
        "      <th></th>\n",
        "      <th>EGF</th>\n",
        "      <th>TNFa</th>\n",
        "      <th>Raf</th>\n",
        "      <th>PI3K</th>\n",
        "    </tr>\n",
        "  </thead>\n",
        "  <tbody>\n",
        "    <tr>\n",
        "      <th>experiment_0</th>\n",
        "      <td> 1</td>\n",
        "      <td> 0</td>\n",
        "      <td> 0</td>\n",
        "      <td> 0</td>\n",
        "    </tr>\n",
        "    <tr>\n",
        "      <th>experiment_1</th>\n",
        "      <td> 0</td>\n",
        "      <td> 1</td>\n",
        "      <td> 0</td>\n",
        "      <td> 0</td>\n",
        "    </tr>\n",
        "    <tr>\n",
        "      <th>experiment_2</th>\n",
        "      <td> 1</td>\n",
        "      <td> 1</td>\n",
        "      <td> 0</td>\n",
        "      <td> 0</td>\n",
        "    </tr>\n",
        "    <tr>\n",
        "      <th>experiment_3</th>\n",
        "      <td> 1</td>\n",
        "      <td> 0</td>\n",
        "      <td> 1</td>\n",
        "      <td> 0</td>\n",
        "    </tr>\n",
        "    <tr>\n",
        "      <th>experiment_4</th>\n",
        "      <td> 0</td>\n",
        "      <td> 1</td>\n",
        "      <td> 1</td>\n",
        "      <td> 0</td>\n",
        "    </tr>\n",
        "    <tr>\n",
        "      <th>experiment_5</th>\n",
        "      <td> 1</td>\n",
        "      <td> 1</td>\n",
        "      <td> 1</td>\n",
        "      <td> 0</td>\n",
        "    </tr>\n",
        "    <tr>\n",
        "      <th>experiment_6</th>\n",
        "      <td> 1</td>\n",
        "      <td> 0</td>\n",
        "      <td> 0</td>\n",
        "      <td> 1</td>\n",
        "    </tr>\n",
        "    <tr>\n",
        "      <th>experiment_7</th>\n",
        "      <td> 0</td>\n",
        "      <td> 1</td>\n",
        "      <td> 0</td>\n",
        "      <td> 1</td>\n",
        "    </tr>\n",
        "    <tr>\n",
        "      <th>experiment_8</th>\n",
        "      <td> 1</td>\n",
        "      <td> 1</td>\n",
        "      <td> 0</td>\n",
        "      <td> 1</td>\n",
        "    </tr>\n",
        "  </tbody>\n",
        "</table>\n",
        "</div>"
       ],
       "metadata": {},
       "output_type": "pyout",
       "prompt_number": 9,
       "text": [
        "             Stimuli      Inhibitors     \n",
        "                 EGF TNFa        Raf PI3K\n",
        "experiment_0       1    0          0    0\n",
        "experiment_1       0    1          0    0\n",
        "experiment_2       1    1          0    0\n",
        "experiment_3       1    0          1    0\n",
        "experiment_4       0    1          1    0\n",
        "experiment_5       1    1          1    0\n",
        "experiment_6       1    0          0    1\n",
        "experiment_7       0    1          0    1\n",
        "experiment_8       1    1          0    1"
       ]
      }
     ],
     "prompt_number": 9
    },
    {
     "cell_type": "heading",
     "level": 2,
     "metadata": {},
     "source": [
      "Manipulation"
     ]
    },
    {
     "cell_type": "code",
     "collapsed": false,
     "input": [
      "m.remove_experiments(['experiment_0'])"
     ],
     "language": "python",
     "metadata": {},
     "outputs": [],
     "prompt_number": 81
    },
    {
     "cell_type": "code",
     "collapsed": false,
     "input": [
      "m.remove_inhibitors(['Raf'])"
     ],
     "language": "python",
     "metadata": {},
     "outputs": [],
     "prompt_number": 82
    },
    {
     "cell_type": "code",
     "collapsed": false,
     "input": [
      "m.remove_stimuli('EGF')"
     ],
     "language": "python",
     "metadata": {},
     "outputs": [],
     "prompt_number": 83
    },
    {
     "cell_type": "code",
     "collapsed": false,
     "input": [
      "m.rename_stimuli({'TNFa':'TNFA'})\n",
      "m.rename_inhibitors({'PI3K':'PI3k'})\n",
      "m.experiments"
     ],
     "language": "python",
     "metadata": {},
     "outputs": [
      {
       "html": [
        "<div style=\"max-height:1000px;max-width:1500px;overflow:auto;\">\n",
        "<table border=\"1\" class=\"dataframe\">\n",
        "  <thead>\n",
        "    <tr>\n",
        "      <th></th>\n",
        "      <th>Stimuli</th>\n",
        "      <th>Inhibitors</th>\n",
        "    </tr>\n",
        "    <tr>\n",
        "      <th></th>\n",
        "      <th>TNFA</th>\n",
        "      <th>PI3k</th>\n",
        "    </tr>\n",
        "  </thead>\n",
        "  <tbody>\n",
        "    <tr>\n",
        "      <th>experiment_1</th>\n",
        "      <td> 1</td>\n",
        "      <td> 0</td>\n",
        "    </tr>\n",
        "    <tr>\n",
        "      <th>experiment_2</th>\n",
        "      <td> 1</td>\n",
        "      <td> 0</td>\n",
        "    </tr>\n",
        "    <tr>\n",
        "      <th>experiment_3</th>\n",
        "      <td> 0</td>\n",
        "      <td> 0</td>\n",
        "    </tr>\n",
        "    <tr>\n",
        "      <th>experiment_4</th>\n",
        "      <td> 1</td>\n",
        "      <td> 0</td>\n",
        "    </tr>\n",
        "    <tr>\n",
        "      <th>experiment_5</th>\n",
        "      <td> 1</td>\n",
        "      <td> 0</td>\n",
        "    </tr>\n",
        "    <tr>\n",
        "      <th>experiment_6</th>\n",
        "      <td> 0</td>\n",
        "      <td> 1</td>\n",
        "    </tr>\n",
        "    <tr>\n",
        "      <th>experiment_7</th>\n",
        "      <td> 1</td>\n",
        "      <td> 1</td>\n",
        "    </tr>\n",
        "    <tr>\n",
        "      <th>experiment_8</th>\n",
        "      <td> 1</td>\n",
        "      <td> 1</td>\n",
        "    </tr>\n",
        "  </tbody>\n",
        "</table>\n",
        "</div>"
       ],
       "metadata": {},
       "output_type": "pyout",
       "prompt_number": 84,
       "text": [
        "             Stimuli Inhibitors\n",
        "                TNFA       PI3k\n",
        "experiment_1       1          0\n",
        "experiment_2       1          0\n",
        "experiment_3       0          0\n",
        "experiment_4       1          0\n",
        "experiment_5       1          0\n",
        "experiment_6       0          1\n",
        "experiment_7       1          1\n",
        "experiment_8       1          1"
       ]
      }
     ],
     "prompt_number": 84
    },
    {
     "cell_type": "heading",
     "level": 2,
     "metadata": {},
     "source": [
      "Plotting"
     ]
    },
    {
     "cell_type": "code",
     "collapsed": false,
     "input": [
      "%pylab inline\n",
      "m.plot(fontsize=5)"
     ],
     "language": "python",
     "metadata": {},
     "outputs": [
      {
       "output_type": "stream",
       "stream": "stdout",
       "text": [
        "Populating the interactive namespace from numpy and matplotlib\n"
       ]
      },
      {
       "metadata": {},
       "output_type": "display_data",
       "png": "[encoded data removed]",
       "text": [
        "<matplotlib.figure.Figure at 0x5644250>"
       ]
      }
     ],
     "prompt_number": 77
    },
    {
     "cell_type": "code",
     "collapsed": false,
     "input": [],
     "language": "python",
     "metadata": {},
     "outputs": []
    }
   ],
   "metadata": {}
  }
 ]
}