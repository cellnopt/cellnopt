{
 "metadata": {
  "name": "",
  "signature": "sha256:d400abc7b8f16ee3380ec66cc44b7a4cdc628fe95997d855fc1b372f22371c7c"
 },
 "nbformat": 3,
 "nbformat_minor": 0,
 "worksheets": [
  {
   "cells": [
    {
     "cell_type": "heading",
     "level": 1,
     "metadata": {},
     "source": [
      "Transfer Function Interactive Visualisation"
     ]
    },
    {
     "cell_type": "markdown",
     "metadata": {},
     "source": [
      "This notebook shows <br>\n",
      "(1) how to use the interactive widget <br>\n",
      "(2) applies it to an interactive visualisation of the transfer function used in cellnopt (ODE)."
     ]
    },
    {
     "cell_type": "code",
     "collapsed": false,
     "input": [
      "from IPython.html.widgets import interact\n",
      "from IPython.display import Latex\n",
      "%pylab inline"
     ],
     "language": "python",
     "metadata": {},
     "outputs": [
      {
       "output_type": "stream",
       "stream": "stdout",
       "text": [
        "Populating the interactive namespace from numpy and matplotlib\n"
       ]
      }
     ],
     "prompt_number": 1
    },
    {
     "cell_type": "code",
     "collapsed": false,
     "input": [
      "Latex(r\"\"\"\\begin{equation}T(x,\\tau,k,n) = \\tau  \\frac{\\left( k^n+1 \\right) x^n}{k^n+x^n}\\end{equation}\"\"\")"
     ],
     "language": "python",
     "metadata": {},
     "outputs": [
      {
       "latex": [
        "\\begin{equation}T(x,\\tau,k,n) = \\tau  \\frac{\\left( k^n+1 \\right) x^n}{k^n+x^n}\\end{equation}"
       ],
       "metadata": {},
       "output_type": "pyout",
       "prompt_number": 2,
       "text": [
        "<IPython.core.display.Latex at 0x2905d50>"
       ]
      }
     ],
     "prompt_number": 2
    },
    {
     "cell_type": "code",
     "collapsed": false,
     "input": [
      "from cno.misc import matfun"
     ],
     "language": "python",
     "metadata": {},
     "outputs": [],
     "prompt_number": 4
    },
    {
     "cell_type": "code",
     "collapsed": false,
     "input": [
      "matfun.plot_ode_transfer_function(1, {'A':{'k':1, 'n':.5, 'type':1}})"
     ],
     "language": "python",
     "metadata": {},
     "outputs": [
      {
       "metadata": {},
       "output_type": "display_data",
       "png": "[encoded data removed]",
       "text": [
        "<matplotlib.figure.Figure at 0x51bf410>"
       ]
      }
     ],
     "prompt_number": 5
    },
    {
     "cell_type": "code",
     "collapsed": false,
     "input": [
      "def test1(tau, k,n, type_):\n",
      "    matfun.plot_ode_transfer_function(tau, {'A':{'k':k, 'n':n, 'type':type_}})\n",
      "    plt.ylim([0,1])"
     ],
     "language": "python",
     "metadata": {},
     "outputs": [],
     "prompt_number": 6
    },
    {
     "cell_type": "code",
     "collapsed": false,
     "input": [
      "interact(test1, tau=(0.,10.), k=(0.,1,.001), n=(0.,5), \n",
      "         type_={'activation':1, 'inhibition':-1} )"
     ],
     "language": "python",
     "metadata": {},
     "outputs": [
      {
       "metadata": {},
       "output_type": "display_data",
       "png": "[encoded data removed]",
       "text": [
        "<matplotlib.figure.Figure at 0x5163dd0>"
       ]
      }
     ],
     "prompt_number": 7
    },
    {
     "cell_type": "code",
     "collapsed": false,
     "input": [
      "def test2(tau, k1,k2,n1,n2, type1,type2,ymax=1):\n",
      "    matfun.plot_ode_transfer_function(tau, {'A':{'k':k1, 'n':n1, 'type':type1},\n",
      "                                            \n",
      "                                            'B':{'k':k2, 'n':n2, 'type':type2}\n",
      "                                            })\n",
      "    plt.ylim([0,ymax])"
     ],
     "language": "python",
     "metadata": {},
     "outputs": [],
     "prompt_number": 8
    },
    {
     "cell_type": "code",
     "collapsed": false,
     "input": [
      "interact(test2, tau=(0.,10.), k1=(0.,1,.001), n1=(0.,5), n2=(0.,5.),k2=(0,1,0.001), type1={'activation':1, 'inhibition':-1},\n",
      "         type2={'activation':1, 'inhibition':-1},ymax=(0,2))"
     ],
     "language": "python",
     "metadata": {},
     "outputs": [
      {
       "metadata": {},
       "output_type": "pyout",
       "prompt_number": 9,
       "text": [
        "<function __main__.test2>"
       ]
      },
      {
       "metadata": {},
       "output_type": "display_data",
       "png": "[encoded data removed]",
       "text": [
        "<matplotlib.figure.Figure at 0x50bc290>"
       ]
      }
     ],
     "prompt_number": 9
    },
    {
     "cell_type": "code",
     "collapsed": false,
     "input": [],
     "language": "python",
     "metadata": {},
     "outputs": []
    }
   ],
   "metadata": {}
  }
 ]
}